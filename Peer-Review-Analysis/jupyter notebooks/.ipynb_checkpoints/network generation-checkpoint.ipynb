{
 "cells": [
  {
   "cell_type": "code",
   "execution_count": 3,
   "metadata": {},
   "outputs": [],
   "source": [
    "import pandas as pd\n",
    "import numpy as np\n",
    "import datetime as datetime\n",
    "import igraph"
   ]
  },
  {
   "cell_type": "code",
   "execution_count": 9,
   "metadata": {},
   "outputs": [],
   "source": [
    "df = pd.read_csv('/home/poulami/Documents/Github/Peer-Review-Analysis/data/personreview.csv')  #Enter path of the file personreview.csv\n",
    "#person = pd.read_csv('/home/poulami/Documents/Github/Peer-Review-Analysis/data/person.csv')\n",
    "review = pd.read_csv('/home/poulami/Documents/Github/Peer-Review-Analysis/data/result.csv')"
   ]
  },
  {
   "cell_type": "markdown",
   "metadata": {},
   "source": [
    "# Generate network\n",
    "### vertices  -  persons\n",
    "### edges - no of common reviews commented on"
   ]
  },
  {
   "cell_type": "code",
   "execution_count": 11,
   "metadata": {
    "collapsed": true
   },
   "outputs": [],
   "source": [
    "def generatenetwork (start, end, index):\n",
    "    \n",
    "    \n",
    "    df1 = df\n",
    "    df1['date'] = df['date'].apply(pd.to_datetime, errors='coerce')      #typecasts the column date to type datetime\n",
    "    #print(df1.dtypes)\n",
    "    df1=df1.sort_values(by='date')                                        #Sorts the dataframe in ascending order of dates\n",
    "    #print(df1)\n",
    "    #start = input(\"Enter start date (yyyymmdd):\")\n",
    "    #end = input(\"Enter end date (yyyymmdd):\")\n",
    "    s = datetime.datetime.strptime(str(start), '%Y-%m-%d %H:%M:%S.%f')\n",
    "    e = datetime.datetime.strptime(str(end) , '%Y-%m-%d %H:%M:%S.%f')\n",
    "    df1 = df1.set_index(['date'])                                         #Required for the next step.  Sets date as an index\n",
    "    df1 = df1.loc[s:e]                                                    #Takes only the comments made between dates s and e\n",
    "    df1 = df1.reset_index(drop=True)                                      #Drops the index column 'date' as it is not needed anymore  \n",
    "    df1 = df1.drop_duplicates(subset=['sender', 'issue'])                 #Removes duplicate columns\n",
    "    print('top')\n",
    "    print(df1.shape[0])\n",
    "    \n",
    "    ##################################################################################\n",
    "    #    Compares the data frames w.r.t the set keys and extracts selected rows      #\n",
    "    ##################################################################################\n",
    "\n",
    "    person = df1.drop_duplicates(['sender'])\n",
    "    review = df1.drop_duplicates(['issue'])\n",
    "    keys = ['sender']\n",
    "    i1 = df1.set_index(keys).index\n",
    "    i2 = person.set_index(keys).index\n",
    "    df1 = df1[i1.isin(i2)]\n",
    "    keys = ['issue']\n",
    "    i1 = df1.set_index(keys).index\n",
    "    i2 = review.set_index(keys).index\n",
    "    df1 = df1[i1.isin(i2)]\n",
    "    #print(df1)\n",
    "    ##################################################################################\n",
    "    #                          Initialize the graph                                  #\n",
    "    ##################################################################################\n",
    "    g = Graph.Full(0)\n",
    "    print(person.shape[0])\n",
    "    for i in (person['sender']):\n",
    "        g.add_vertices([i])\n",
    "        #print(g)\n",
    "    g.es[\"weight\"]=0\n",
    "    ##################################################################################\n",
    "    #                    Creating edges and assigning edge weights                   #\n",
    "    ##################################################################################\n",
    "    df1 = df1[df1.duplicated(subset=['issue'] ,keep=False)]               #Keeps only the the reviews which occur twice. This is done because \n",
    "    #print('edgecre')                                                            \n",
    "    sender = df1[['sender']]                                                                                                                                               #\n",
    "    #print(sender)              2008-09-02 20:13:34.526552 2008-10-03 05:28:56.748409                                                                                                                                            #  CAN BE IMPROVED\n",
    "    sender = sender.drop_duplicates(subset=['sender'],keep= 'first' )     #Gets unique sender names along with issues (The  dataframe sender is used for looping through)  #\n",
    "    print('1')                         \n",
    "    for i in (sender['sender']):   \n",
    "        set1=df1[df1['sender'].isin([i])]                                 #Create first set                                                           \n",
    "        sender = sender.drop(sender.index[0])                             #Deletes the first element of sender   \n",
    "        for j in (sender['sender']):                                      #Creates second set               \n",
    "            set2=df1[df1['sender'].isin([j])]\n",
    "            newset = pd.concat([set1, set2])                              #set union\n",
    "            #print(newset)\n",
    "            newset = newset[newset.duplicated(subset=['issue'] ,keep='first')]  #Set intersection\n",
    "            weight = (newset.shape[0])\n",
    "            if(weight != 0):\n",
    "                g[i,j] = weight\n",
    "    g.vs['id'] = g.vs['name']                                             #assigns vertex id\n",
    "    g.write_pajek((\"T\" + str(index+1) + \"-nw.net\"))                                             #writes to pajek file\n",
    "#\n",
    "\n"
   ]
  },
  {
   "cell_type": "code",
   "execution_count": null,
   "metadata": {
    "collapsed": true
   },
   "outputs": [],
   "source": [
    "generatenetwork('2008-09-02 20:13:34.526552', '2008-10-03 05:28:56.748409',1 )"
   ]
  }
 ],
 "metadata": {
  "kernelspec": {
   "display_name": "Python 3",
   "language": "python",
   "name": "python3"
  },
  "language_info": {
   "codemirror_mode": {
    "name": "ipython",
    "version": 3
   },
   "file_extension": ".py",
   "mimetype": "text/x-python",
   "name": "python",
   "nbconvert_exporter": "python",
   "pygments_lexer": "ipython3",
   "version": "3.6.3"
  }
 },
 "nbformat": 4,
 "nbformat_minor": 2
}
