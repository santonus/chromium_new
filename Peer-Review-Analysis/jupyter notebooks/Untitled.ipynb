{
 "cells": [
  {
   "cell_type": "code",
   "execution_count": 1,
   "metadata": {
    "collapsed": true
   },
   "outputs": [],
   "source": [
    "import pandas as pd\n",
    "import datetime as datetime"
   ]
  },
  {
   "cell_type": "code",
   "execution_count": 2,
   "metadata": {
    "collapsed": true
   },
   "outputs": [],
   "source": [
    "review = pd.read_csv(\"/home/poulami/Dropbox/Poulami-project/to-share/data/result.csv\")   \n",
    "review['created'] = review['created'].apply(pd.to_datetime, errors='coerce')      #typecasts the column date to type datetime\n",
    "review = review.sort_values(by=['created'])\n",
    "review = review.set_index(['created'])                                         #Required for the next step.  Sets date as an index\n"
   ]
  },
  {
   "cell_type": "markdown",
   "metadata": {},
   "source": [
    "## Total number of reviews created in each time interval"
   ]
  },
  {
   "cell_type": "code",
   "execution_count": 3,
   "metadata": {
    "collapsed": true
   },
   "outputs": [],
   "source": [
    "def time (start, end, index):\n",
    "    global review\n",
    "    s = datetime.datetime.strptime(str(start), '%Y-%m-%d %H:%M:%S.%f')\n",
    "    e = datetime.datetime.strptime(str(end) , '%Y-%m-%d %H:%M:%S.%f')\n",
    "    df = review.loc[s:e]                                                    #Takes only the comments made between dates s and e\n",
    "    df = df.reset_index(drop=True)    \n",
    "    return df.shape[0]"
   ]
  },
  {
   "cell_type": "code",
   "execution_count": 9,
   "metadata": {
    "scrolled": true
   },
   "outputs": [
    {
     "name": "stdout",
     "output_type": "stream",
     "text": [
      "2008-09-02 20:13:34.526552 \n",
      " 2012-10-31 03:02:05.619400\n",
      "30 days, 9:15:22.221857\n",
      "1 1320\n",
      "2 1698\n",
      "3 1897\n",
      "4 1336\n",
      "5 1566\n",
      "6 2004\n",
      "7 2368\n",
      "8 2241\n",
      "9 2522\n",
      "10 2779\n",
      "11 2694\n",
      "12 3421\n",
      "13 3127\n",
      "14 3148\n",
      "15 3179\n",
      "16 2257\n",
      "17 3104\n",
      "18 3924\n",
      "19 4460\n",
      "20 3710\n",
      "21 3877\n",
      "22 4326\n",
      "23 4167\n",
      "24 5413\n",
      "25 4316\n",
      "26 4764\n",
      "27 4346\n",
      "28 3223\n",
      "29 4124\n",
      "30 5200\n",
      "31 5482\n",
      "32 5361\n",
      "33 4558\n",
      "34 4499\n",
      "35 4247\n",
      "36 4978\n",
      "37 5068\n",
      "38 5815\n",
      "39 6102\n",
      "40 4659\n",
      "41 5111\n",
      "42 6418\n",
      "43 6953\n",
      "44 6380\n",
      "45 6766\n",
      "46 6682\n",
      "47 5813\n",
      "48 7274\n",
      "49 7174\n",
      "50 3766\n",
      "sum:  209617\n"
     ]
    }
   ],
   "source": [
    "head = datetime.datetime.strptime('2008-09-02 20:13:34.526552', '%Y-%m-%d %H:%M:%S.%f') \n",
    "tail = datetime.datetime.strptime('2012-10-31 03:02:05.619400', '%Y-%m-%d %H:%M:%S.%f') \n",
    "print(head,'\\n',tail)\n",
    "step = (tail-head)/50\n",
    "print(step)\n",
    "sum=0\n",
    "for i in range(0,50):\n",
    "        start  = head+i*step\n",
    "        end = head +(1+i)*step\n",
    "        x=(time(start, end,i))\n",
    "        sum+=x\n",
    "        print((i+1),x)\n",
    "print(\"sum: \",sum)\n"
   ]
  }
 ],
 "metadata": {
  "kernelspec": {
   "display_name": "Python 3",
   "language": "python",
   "name": "python3"
  },
  "language_info": {
   "codemirror_mode": {
    "name": "ipython",
    "version": 3
   },
   "file_extension": ".py",
   "mimetype": "text/x-python",
   "name": "python",
   "nbconvert_exporter": "python",
   "pygments_lexer": "ipython3",
   "version": "3.6.3"
  }
 },
 "nbformat": 4,
 "nbformat_minor": 2
}
